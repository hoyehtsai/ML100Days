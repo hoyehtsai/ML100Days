{
 "cells": [
  {
   "cell_type": "code",
   "execution_count": 10,
   "metadata": {},
   "outputs": [],
   "source": [
    "#作業目標:\n",
    "#嘗試練習log的函式並應用\n",
    "#作業重點:\n",
    "#學員需要複習log的轉換方式\n",
    "#熟悉運用指數函數以及對數函數"
   ]
  },
  {
   "cell_type": "code",
   "execution_count": 11,
   "metadata": {},
   "outputs": [],
   "source": [
    "#題目:\n",
    "#運用投影片中的分貝公式回答下列問題。\n",
    "#1.正常的談話的聲壓為20000微巴斯卡，請問多少分貝?\n",
    "#2.30分貝的聲壓會是50分貝的幾倍?\n"
   ]
  },
  {
   "cell_type": "code",
   "execution_count": null,
   "metadata": {},
   "outputs": [],
   "source": [
    "import numpy as np "
   ]
  },
  {
   "cell_type": "code",
   "execution_count": 17,
   "metadata": {},
   "outputs": [
    {
     "name": "stdout",
     "output_type": "stream",
     "text": [
      "正常的談話的聲壓為20000微巴斯卡，是 60.0 分貝\n"
     ]
    }
   ],
   "source": [
    "#1.正常的談話的聲壓為20000微巴斯卡，請問多少分貝?\n",
    "#請寫下程式\n",
    "V1 = 20000\n",
    "V0 = 20\n",
    "\n",
    "dB = 20 * np.log10(V1/V0)\n",
    "print('正常的談話的聲壓為20000微巴斯卡，是',dB,'分貝')\n"
   ]
  },
  {
   "cell_type": "code",
   "execution_count": 28,
   "metadata": {},
   "outputs": [
    {
     "name": "stdout",
     "output_type": "stream",
     "text": [
      "30分貝的聲壓會是 31.622776601683793 uPa\n",
      "50分貝的聲壓會是 316.22776601683796 uPa\n",
      "30分貝的聲壓會是50分貝的 0.09999999999999999 倍\n"
     ]
    }
   ],
   "source": [
    "#2.30分貝的聲壓會是50分貝的幾倍?\n",
    "#公式移項過後可以得到 V1 = ?\n",
    "#請寫下程式\n",
    "uPa30 = np.power(10,(30/20))\n",
    "print('30分貝的聲壓會是',uPa30,'uPa')\n",
    "\n",
    "uPa50 = np.power(10,(50/20))\n",
    "print('50分貝的聲壓會是',uPa50,'uPa')\n",
    "\n",
    "x = uPa30 / uPa50\n",
    "print('30分貝的聲壓會是50分貝的',x,'倍')\n"
   ]
  },
  {
   "cell_type": "code",
   "execution_count": null,
   "metadata": {},
   "outputs": [],
   "source": []
  }
 ],
 "metadata": {
  "kernelspec": {
   "display_name": "Python 3",
   "language": "python",
   "name": "python3"
  },
  "language_info": {
   "codemirror_mode": {
    "name": "ipython",
    "version": 3
   },
   "file_extension": ".py",
   "mimetype": "text/x-python",
   "name": "python",
   "nbconvert_exporter": "python",
   "pygments_lexer": "ipython3",
   "version": "3.7.3"
  }
 },
 "nbformat": 4,
 "nbformat_minor": 2
}
