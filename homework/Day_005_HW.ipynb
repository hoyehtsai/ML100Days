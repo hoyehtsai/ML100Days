{
 "cells": [
  {
   "cell_type": "code",
   "execution_count": null,
   "metadata": {},
   "outputs": [],
   "source": [
    "#作業目標\n",
    "#計算有缺失值的資料，統計量實作\n",
    "#作業重點\n",
    "#當遇到缺失值有函式可以處理，不須額外寫程式刪除\n",
    "#計算統計量時不能出現缺失值"
   ]
  },
  {
   "cell_type": "code",
   "execution_count": null,
   "metadata": {},
   "outputs": [],
   "source": [
    "#題目:\n",
    "#english_score = np.array([55,89,76,65,48,70])\n",
    "#math_score = np.array([60,85,60,68,np.nan,60])\n",
    "#chinese_score = np.array([65,90,82,72,66,77])\n",
    "#上3列共六位同學的英文、數學、國文成績，第一個元素代表第一位同學，舉例第一位同學英文55分、數學60分、國文65分，今天第五位同學因某原因沒來考試，導致數學成績缺值，運用上列數據回答下列問題。\n",
    "\n",
    "#請計算各科成績平均、最大值、最小值、標準差，其中數學缺一筆資料可忽略?\n",
    "#第五位同學補考數學後成績為55，請計算補考後數學成績平均、最大值、最小值、標準差?\n",
    "#用補考後資料找出與國文成績相關係數最高的學科?"
   ]
  },
  {
   "cell_type": "code",
   "execution_count": 2,
   "metadata": {},
   "outputs": [],
   "source": [
    "import numpy as np"
   ]
  },
  {
   "cell_type": "code",
   "execution_count": 3,
   "metadata": {},
   "outputs": [],
   "source": [
    "english_score = np.array([55,89,76,65,48,70])\n",
    "math_score = np.array([60,85,60,68,np.nan,60])\n",
    "chinese_score = np.array([65,90,82,72,66,77])"
   ]
  },
  {
   "cell_type": "code",
   "execution_count": 14,
   "metadata": {},
   "outputs": [
    {
     "name": "stdout",
     "output_type": "stream",
     "text": [
      "英文平均成績 67.16666666666667\n",
      "數學平均成績 66.6\n",
      "中文平均成績 75.33333333333333\n",
      "\n",
      "\n",
      "英文成績最高分 89\n",
      "數學成績最高分 85.0\n",
      "中文成績最高分 90\n",
      "\n",
      "\n",
      "英文成績最低分 48\n",
      "數學成績最低分 60.0\n",
      "中文成績最低分 65\n",
      "\n",
      "\n",
      "英文成績標準差 13.433995020924426\n",
      "數學成績標準差 9.707728879609279\n",
      "中文成績標準差 8.825468196582484\n"
     ]
    }
   ],
   "source": [
    "#1. 請計算各科成績平均、最大值、最小值、標準差，其中數學缺一筆資料可忽略?\n",
    "\n",
    "print (\"英文平均成績\",np.mean(english_score))\n",
    "print (\"數學平均成績\",np.nanmean(math_score))\n",
    "print (\"中文平均成績\",np.mean(chinese_score))\n",
    "print (\"\\n\")\n",
    "print (\"英文成績最高分\",np.max(english_score))\n",
    "print (\"數學成績最高分\",np.nanmax(math_score))\n",
    "print (\"中文成績最高分\",np.max(chinese_score))\n",
    "print (\"\\n\")\n",
    "print (\"英文成績最低分\",np.min(english_score))\n",
    "print (\"數學成績最低分\",np.nanmin(math_score))\n",
    "print (\"中文成績最低分\",np.min(chinese_score))\n",
    "print (\"\\n\")\n",
    "print (\"英文成績標準差\",np.std(english_score))\n",
    "print (\"數學成績標準差\",np.nanstd(math_score))\n",
    "print (\"中文成績標準差\",np.std(chinese_score))\n"
   ]
  },
  {
   "cell_type": "code",
   "execution_count": 15,
   "metadata": {},
   "outputs": [
    {
     "name": "stdout",
     "output_type": "stream",
     "text": [
      "英文平均成績 67.16666666666667\n",
      "數學平均成績 64.66666666666667\n",
      "中文平均成績 75.33333333333333\n",
      "\n",
      "\n",
      "英文成績最高分 89\n",
      "數學成績最高分 85\n",
      "中文成績最高分 90\n",
      "\n",
      "\n",
      "英文成績最低分 48\n",
      "數學成績最低分 55\n",
      "中文成績最低分 65\n",
      "\n",
      "\n",
      "英文成績標準差 13.433995020924426\n",
      "數學成績標準差 9.860132971832694\n",
      "中文成績標準差 8.825468196582484\n"
     ]
    }
   ],
   "source": [
    "#2. 第五位同學補考數學後成績為55，請計算補考後數學成績平均、最大值、最小值、標準差?\n",
    "math_score = np.array([60,85,60,68,55,60])\n",
    "\n",
    "print (\"英文平均成績\",np.mean(english_score))\n",
    "print (\"數學平均成績\",np.mean(math_score))\n",
    "print (\"中文平均成績\",np.mean(chinese_score))\n",
    "print (\"\\n\")\n",
    "print (\"英文成績最高分\",np.max(english_score))\n",
    "print (\"數學成績最高分\",np.max(math_score))\n",
    "print (\"中文成績最高分\",np.max(chinese_score))\n",
    "print (\"\\n\")\n",
    "print (\"英文成績最低分\",np.min(english_score))\n",
    "print (\"數學成績最低分\",np.min(math_score))\n",
    "print (\"中文成績最低分\",np.min(chinese_score))\n",
    "print (\"\\n\")\n",
    "print (\"英文成績標準差\",np.std(english_score))\n",
    "print (\"數學成績標準差\",np.std(math_score))\n",
    "print (\"中文成績標準差\",np.std(chinese_score))"
   ]
  },
  {
   "cell_type": "code",
   "execution_count": 24,
   "metadata": {},
   "outputs": [
    {
     "name": "stdout",
     "output_type": "stream",
     "text": [
      "與英文相關係數 [[1.         0.97792828]\n",
      " [0.97792828 1.        ]]\n",
      "與數學相關係統 [[1.         0.74056803]\n",
      " [0.74056803 1.        ]]\n"
     ]
    },
    {
     "ename": "ValueError",
     "evalue": "The truth value of an array with more than one element is ambiguous. Use a.any() or a.all()",
     "output_type": "error",
     "traceback": [
      "\u001b[0;31m---------------------------------------------------------------------------\u001b[0m",
      "\u001b[0;31mValueError\u001b[0m                                Traceback (most recent call last)",
      "\u001b[0;32m<ipython-input-24-15e4f4330e12>\u001b[0m in \u001b[0;36m<module>\u001b[0;34m\u001b[0m\n\u001b[1;32m      6\u001b[0m \u001b[0mprint\u001b[0m \u001b[0;34m(\u001b[0m\u001b[0;34m\"與數學相關係統\"\u001b[0m\u001b[0;34m,\u001b[0m\u001b[0mmath_corr\u001b[0m\u001b[0;34m)\u001b[0m\u001b[0;34m\u001b[0m\u001b[0;34m\u001b[0m\u001b[0m\n\u001b[1;32m      7\u001b[0m \u001b[0;34m\u001b[0m\u001b[0m\n\u001b[0;32m----> 8\u001b[0;31m \u001b[0;32mif\u001b[0m \u001b[0meng_corr\u001b[0m \u001b[0;34m>\u001b[0m \u001b[0mmath_corr\u001b[0m\u001b[0;34m:\u001b[0m\u001b[0;34m\u001b[0m\u001b[0;34m\u001b[0m\u001b[0m\n\u001b[0m\u001b[1;32m      9\u001b[0m     \u001b[0mprint\u001b[0m \u001b[0;34m(\u001b[0m\u001b[0;34m\"英文科相關系數最高\"\u001b[0m\u001b[0;34m)\u001b[0m\u001b[0;34m\u001b[0m\u001b[0;34m\u001b[0m\u001b[0m\n\u001b[1;32m     10\u001b[0m \u001b[0;32melse\u001b[0m\u001b[0;34m:\u001b[0m\u001b[0;34m\u001b[0m\u001b[0;34m\u001b[0m\u001b[0m\n",
      "\u001b[0;31mValueError\u001b[0m: The truth value of an array with more than one element is ambiguous. Use a.any() or a.all()"
     ]
    }
   ],
   "source": [
    "#3. 用補考後資料找出與國文成績相關係數最高的學科?\n",
    "eng_corr = np.corrcoef(chinese_score,english_score)\n",
    "math_corr = np.corrcoef(chinese_score,math_score)\n",
    "\n",
    "print (\"與英文相關係數\",eng_corr)\n",
    "print (\"與數學相關係統\",math_corr)\n",
    "\n",
    "if eng_corr > math_corr:\n",
    "    print (\"英文科相關系數最高\")\n",
    "else:\n",
    "    print (\"數學科相關系數最高\")"
   ]
  },
  {
   "cell_type": "code",
   "execution_count": null,
   "metadata": {},
   "outputs": [],
   "source": []
  }
 ],
 "metadata": {
  "kernelspec": {
   "display_name": "Python 3",
   "language": "python",
   "name": "python3"
  },
  "language_info": {
   "codemirror_mode": {
    "name": "ipython",
    "version": 3
   },
   "file_extension": ".py",
   "mimetype": "text/x-python",
   "name": "python",
   "nbconvert_exporter": "python",
   "pygments_lexer": "ipython3",
   "version": "3.7.3"
  }
 },
 "nbformat": 4,
 "nbformat_minor": 2
}
