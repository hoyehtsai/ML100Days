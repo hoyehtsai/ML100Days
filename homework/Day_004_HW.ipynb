{
 "cells": [
  {
   "cell_type": "code",
   "execution_count": null,
   "metadata": {},
   "outputs": [],
   "source": [
    "#作業目標\n",
    "#熟悉邏輯運算\n",
    "#作業重點\n",
    "#五大類邏輯函式與其對應的函式操作"
   ]
  },
  {
   "cell_type": "code",
   "execution_count": 4,
   "metadata": {},
   "outputs": [],
   "source": [
    "#題目:\n",
    "english_score = np.array([55,89,76,65,48,70])\n",
    "math_score = np.array([60,85,60,68,55,60])\n",
    "chinese_score = np.array([65,90,82,72,66,77])\n",
    "#上3列共六位同學的英文、數學、國文成績，第一個元素代表第一位同學，舉例第一位同學英文55分、數學60分、國文65分，運用上列數據回答下列問題。\n",
    "\n",
    "#有多少學生英文成績比數學成績高?\n",
    "#是否全班同學最高分都是國文?"
   ]
  },
  {
   "cell_type": "code",
   "execution_count": 5,
   "metadata": {},
   "outputs": [],
   "source": [
    "import numpy as np"
   ]
  },
  {
   "cell_type": "code",
   "execution_count": 26,
   "metadata": {},
   "outputs": [
    {
     "name": "stdout",
     "output_type": "stream",
     "text": [
      "[False  True  True False False  True]\n",
      "英文成績比數學成績高的學生有 3 個\n"
     ]
    }
   ],
   "source": [
    "#1.有多少學生英文成績比數學成績高?\n",
    "EngHigh = np.greater(english_score, math_score)\n",
    "\n",
    "i = 0 \n",
    "num = 0\n",
    "while i < 6:\n",
    "    if EngHigh[i] == True:\n",
    "        num +=1\n",
    "    i+=1  \n",
    "print (EngHigh)\n",
    "print (\"英文成績比數學成績高的學生有\",num,\"個\")"
   ]
  },
  {
   "cell_type": "code",
   "execution_count": 33,
   "metadata": {},
   "outputs": [
    {
     "name": "stdout",
     "output_type": "stream",
     "text": [
      "國文是否比英文高 [ True  True  True  True  True  True]\n",
      "國文是否比數學高 [ True  True  True  True  True  True]\n",
      "班同學最高分都是國文\n"
     ]
    }
   ],
   "source": [
    "#2.是否全班同學最高分都是國文?\n",
    "ChEngHigh = np.greater(chinese_score,english_score)\n",
    "ChMathHigh = np.greater(chinese_score,math_score)\n",
    "\n",
    "print (\"國文是否比英文高\",ChEngHigh)\n",
    "print (\"國文是否比數學高\",ChMathHigh)\n",
    "\n",
    "\n",
    "CH = np.logical_and(ChEngHigh, ChMathHigh)\n",
    "\n",
    "i = 0 \n",
    "num = 0\n",
    "while i < 6:\n",
    "    if CH[i] == True:\n",
    "        num +=1\n",
    "    i+=1\n",
    "\n",
    "if num == 6:\n",
    "    print (\"全班同學最高分都是國文\")"
   ]
  },
  {
   "cell_type": "code",
   "execution_count": null,
   "metadata": {},
   "outputs": [],
   "source": []
  }
 ],
 "metadata": {
  "kernelspec": {
   "display_name": "Python 3",
   "language": "python",
   "name": "python3"
  },
  "language_info": {
   "codemirror_mode": {
    "name": "ipython",
    "version": 3
   },
   "file_extension": ".py",
   "mimetype": "text/x-python",
   "name": "python",
   "nbconvert_exporter": "python",
   "pygments_lexer": "ipython3",
   "version": "3.7.3"
  }
 },
 "nbformat": 4,
 "nbformat_minor": 2
}
